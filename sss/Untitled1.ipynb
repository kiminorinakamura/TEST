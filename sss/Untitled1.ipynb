{
 "cells": [
  {
   "cell_type": "code",
   "execution_count": null,
   "metadata": {},
   "outputs": [],
   "source": [
    "class Agent:\n",
    "    def __init__(self):\n",
    "        self.actions = [\"up\",\"down\",\"left\",\"right\"]\n",
    "        self.pos = (0,0)\n",
    "        \n",
    "agent = Agent()"
   ]
  },
  {
   "cell_type": "code",
   "execution_count": null,
   "metadata": {},
   "outputs": [],
   "source": [
    "size = 5\n",
    "\n",
    "class State:\n",
    "    def __init__(self,actions):\n",
    "        self.Q = {}\n",
    "        for a in actions:\n",
    "            self.Q[a] = 0.0\n",
    "        self.best_action = \"up\"\n",
    "        self.goal = False\n",
    "        \n",
    "    def set_goal(self,actions):\n",
    "        for a in actions:\n",
    "            self.Q[a] =0.0\n",
    "        self.goal = True\n",
    "        \n",
    "states = [[State(agent.actions) for i in range(size)] for j in range(size)]\n",
    "states[2][2].set_goal(agent.actions)"
   ]
  },
  {
   "cell_type": "code",
   "execution_count": null,
   "metadata": {},
   "outputs": [],
   "source": [
    "import matplotlib.pyplot as plt  \n",
    "import matplotlib.patches as patches\n",
    "\n",
    "def draw(mark_pos):\n",
    "    fig, ax = plt.subplots()\n",
    "    values = [[states[i][j].Q[states[i][j].best_action] for j in range(size)] for i in range(size)]\n",
    "    mp = ax.pcolor(values, cmap=plt.cm.YlOrRd,vmin=0,vmax=8)\n",
    "    ax.set_aspect(1)\n",
    "    ax.set_xticks(range(size), minor=False)\n",
    "    ax.set_yticks(range(size), minor=False)\n",
    "    \n",
    "    for x in range(len(values)):\n",
    "        for y in range(len(values[0])):\n",
    "            s = states[x][y]\n",
    "            plt.text(x+0.5,y+0.5,int(1000*s.Q[s.best_action])/1000,ha = 'center', va = 'center', size=20)\n",
    "            if states[x][y].goal:\n",
    "                plt.text(x+0.75,y+0.75,\"G\",ha = 'center', va = 'center', size=20)\n",
    "                \n",
    "    plt.text(agent.pos[0]+0.5,agent.pos[1]+0.25,\"agent\",ha = 'center', va = 'center', size=20)\n",
    "    \n",
    "    if mark_pos == \"all\":\n",
    "        for x in range(size):\n",
    "            for y in range(size):\n",
    "                if states[x][y].goal: continue\n",
    "                plt.text(x+0.5,y+0.25,states[x][y].best_action,ha = 'center', va = 'center', size=20)\n",
    "    elif mark_pos != None: \n",
    "        s = states[mark_pos[0]][mark_pos[1]]\n",
    "        plt.text(mark_pos[0]+0.5,mark_pos[1]+0.25,s.best_action,ha = 'center', va = 'center', size=20)\n",
    "            \n",
    "    plt.show()\n",
    "    fig.clear()\n",
    "    \n",
    "draw(None)"
   ]
  }
 ],
 "metadata": {
  "kernelspec": {
   "display_name": "Python 3",
   "language": "python",
   "name": "python3"
  },
  "language_info": {
   "codemirror_mode": {
    "name": "ipython",
    "version": 3
   },
   "file_extension": ".py",
   "mimetype": "text/x-python",
   "name": "python",
   "nbconvert_exporter": "python",
   "pygments_lexer": "ipython3",
   "version": "3.7.3"
  }
 },
 "nbformat": 4,
 "nbformat_minor": 2
}
